{
 "cells": [
  {
   "cell_type": "markdown",
   "id": "2e23d01a-86e8-4dee-8c14-1393ad789639",
   "metadata": {},
   "source": [
    "# -PPS-Unidad1Actividad3-Raul_Albalat_Perez"
   ]
  },
  {
   "cell_type": "markdown",
   "id": "676fa14a-1b3c-40e2-a65e-014aee4e56e2",
   "metadata": {},
   "source": [
    "1. Clases de Equivalencia para isNumber y división y multiplicaCIÓN\n",
    "\n",
    "# Clases de equivalencia para isNumber:\n",
    "\n",
    "Entrada válida: Cualquier valor numérico (int, float, str que represente un número como \"3.5\", \"42\", etc.).\n",
    "\n",
    "Entrada no válida: Cualquier valor no numérico (como \"abc\", \"3a\", etc., o valores como None).\n",
    "\n",
    "# Clases de equivalencia para division:\n",
    "\n",
    "División válida: b ≠ 0.\n",
    "\n",
    "División inválida: b = 0 (debe devolver \"Error: División por cero no permitida.\")."
   ]
  },
  {
   "cell_type": "markdown",
   "id": "c61b1ba4-582e-4bec-af83-69a23af8cd6f",
   "metadata": {},
   "source": [
    "2. Grafo de flujo para division y multiplicacion\n",
    "\n",
    "# Grafo de flujo para division\n",
    "\n",
    "**Inicio**\n",
    "1. Condición: b == 0\n",
    "\n",
    "- Si es 0 -> Retorna mensaje de error.\n",
    "\n",
    "- Si es distinto de 0 -> Continúa.\n",
    "\n",
    "Realiza la división: a / b.\n",
    "\n",
    "# Grafo de flujo para multiplicacion\n",
    "\n",
    "**Inicio**\n",
    "\n",
    "Realiza la multiplicación: a * b.\n"
   ]
  },
  {
   "cell_type": "markdown",
   "id": "6726b20b-1d1e-44d5-b7c9-bb44ca15d38b",
   "metadata": {},
   "source": [
    "# Código de las Pruebas Unitarias\n",
    "\n",
    "## Aquí está el código de las pruebas:\n"
   ]
  },
  {
   "cell_type": "code",
   "execution_count": 5,
   "id": "3c55e70d-05ec-4644-8ad0-65cc7be2c27b",
   "metadata": {},
   "outputs": [
    {
     "name": "stderr",
     "output_type": "stream",
     "text": [
      "test_division_division_por_cero (__main__.TestIsNumberCajaNegra.test_division_division_por_cero) ... ok\n",
      "test_division_valores_validos (__main__.TestIsNumberCajaNegra.test_division_valores_validos) ... ok\n",
      "test_isNumber_valores_invalidos (__main__.TestIsNumberCajaNegra.test_isNumber_valores_invalidos) ... ok\n",
      "test_isNumber_valores_validos (__main__.TestIsNumberCajaNegra.test_isNumber_valores_validos) ... ok\n",
      "test_multiplicacion (__main__.TestIsNumberCajaNegra.test_multiplicacion) ... ok\n",
      "\n",
      "----------------------------------------------------------------------\n",
      "Ran 5 tests in 0.082s\n",
      "\n",
      "OK\n"
     ]
    },
    {
     "name": "stdout",
     "output_type": "stream",
     "text": [
      "El divisor debe de ser mayor que cero\n",
      "DEBUG: 'abc' NO es un número\n",
      "DEBUG: '123abc' NO es un número\n",
      "DEBUG: '123' es un número\n",
      "DEBUG: '3.14' es un número\n",
      "DEBUG: '42' es un número\n",
      "DEBUG: '3.14' es un número\n"
     ]
    }
   ],
   "source": [
    "import unittest\n",
    "from Calculadora import isNumber, division, multiplicacion\n",
    "\n",
    "class TestIsNumberCajaNegra(unittest.TestCase):\n",
    "\n",
    "    # Pruebas para isNumber (Pruebas Caja Negra y Pruebas Caja Blanca)\n",
    "    def test_isNumber_valores_validos(self):\n",
    "        # Clases de equivalencia que són validas\n",
    "        self.assertTrue(isNumber(\"123\"))  # numerica\n",
    "        self.assertTrue(isNumber(\"3.14\"))  # decimal \n",
    "        self.assertTrue(isNumber(3.14))  # Flotante\n",
    "        self.assertTrue(isNumber(42))  # Entero\n",
    "\n",
    "\n",
    "    def test_isNumber_valores_invalidos(self):\n",
    "        # Clas es de equivalencia inválidas\n",
    "        self.assertFalse(isNumber(\"abc\"))  # Cadena no numérica\n",
    "        self.assertFalse(isNumber(\"123abc\"))  # Mixta\n",
    "        self.assertFalse(isNumber(None))  # Valor None\n",
    "\n",
    "\n",
    "    # Pruebas para division (Caja Negra)\n",
    "    def test_division_valores_validos(self):\n",
    "        # Clases de equivalencia válidas\n",
    "        self.assertEqual(division(10, 2), 5)  # División normal\n",
    "        self.assertEqual(division(0, 1), 0)  # Dividendo es 0\n",
    "        self.assertEqual(division(-10, 2), -5)  # Números negativos\n",
    "\n",
    "    def test_division_division_por_cero(self):\n",
    "        # Clase de equivalencia inválida\n",
    "\n",
    "        self.assertFalse(division(10, 0), \"Error: División entre cero no permitida.\")\n",
    "\n",
    "\n",
    "    # Pruebas para multiplicacion (Caja Blanca)\n",
    "    def test_multiplicacion(self):\n",
    "        # Cobertura de rutas del código\n",
    "        self.assertEqual(multiplicacion(2, 3), 6)  # Números positivos\n",
    "        self.assertEqual(multiplicacion(-2, 3), -6)  # Número negativo\n",
    "        self.assertEqual(multiplicacion(0, 3), 0)  # Un número es 0\n",
    "        self.assertEqual(multiplicacion(2, 0), 0)  # El otro número es 0\n",
    "        self.assertEqual(multiplicacion(-2, -3), 6)  # Dos números negativos\n",
    "\n",
    "if __name__ == \"__main__\":\n",
    "    unittest.main(argv=['ignored', '-v'], exit=False)"
   ]
  },
  {
   "cell_type": "markdown",
   "id": "1dc65331-ed70-4d94-a01e-b4cd85b78f17",
   "metadata": {},
   "source": [
    "4. Generación del Grafo de Flujo\n",
    "\n",
    "# Grafo para division:\n",
    "\n",
    "**Inicio**\n",
    "\n",
    "- Condición: b == 0\n",
    "\n",
    "- Si es verdadero → Retorna \"Error: División por cero no permitida.\"\n",
    "\n",
    "- Si es falso → Calcula a / b y retorna.\n",
    "\n",
    "# Grafo para multiplicacion:\n",
    "\n",
    "**Inicio**\n",
    "\n",
    "- Multiplica a * b.\n",
    "\n",
    "Retorna el resultado.\n"
   ]
  }
 ],
 "metadata": {
  "kernelspec": {
   "display_name": "Python 3 (ipykernel)",
   "language": "python",
   "name": "python3"
  },
  "language_info": {
   "codemirror_mode": {
    "name": "ipython",
    "version": 3
   },
   "file_extension": ".py",
   "mimetype": "text/x-python",
   "name": "python",
   "nbconvert_exporter": "python",
   "pygments_lexer": "ipython3",
   "version": "3.12.7"
  }
 },
 "nbformat": 4,
 "nbformat_minor": 5
}
