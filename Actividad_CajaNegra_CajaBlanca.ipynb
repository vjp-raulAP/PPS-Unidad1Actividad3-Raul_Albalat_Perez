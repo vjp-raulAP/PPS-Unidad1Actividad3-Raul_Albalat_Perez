{
 "cells": [
  {
   "cell_type": "markdown",
   "id": "2e23d01a-86e8-4dee-8c14-1393ad789639",
   "metadata": {},
   "source": [
    "# -PPS-Unidad1Actividad3-Raul_Albalat_Perez"
   ]
  },
  {
   "cell_type": "markdown",
   "id": "676fa14a-1b3c-40e2-a65e-014aee4e56e2",
   "metadata": {},
   "source": []
  },
  {
   "cell_type": "markdown",
   "id": "6726b20b-1d1e-44d5-b7c9-bb44ca15d38b",
   "metadata": {},
   "source": [
    "# Código de  Pruebas Unitarias\n",
    "\n",
    "\n"
   ]
  },
  {
   "cell_type": "code",
   "execution_count": 15,
   "id": "3c55e70d-05ec-4644-8ad0-65cc7be2c27b",
   "metadata": {},
   "outputs": [
    {
     "name": "stderr",
     "output_type": "stream",
     "text": [
      "test_division_division_por_cero (__main__.TestIsNumberCajaNegra.test_division_division_por_cero) ... ok\n",
      "test_division_valores_validos (__main__.TestIsNumberCajaNegra.test_division_valores_validos) ... ok\n",
      "test_isNumber_valores_invalidos (__main__.TestIsNumberCajaNegra.test_isNumber_valores_invalidos) ... ok\n",
      "test_isNumber_valores_validos (__main__.TestIsNumberCajaNegra.test_isNumber_valores_validos) ... ok\n",
      "test_is_Number_boolanos (__main__.TestIsNumberCajaNegra.test_is_Number_boolanos) ... ok\n",
      "test_multiplicacion (__main__.TestIsNumberCajaNegra.test_multiplicacion) ... ok\n",
      "\n",
      "----------------------------------------------------------------------\n",
      "Ran 6 tests in 0.006s\n",
      "\n",
      "OK\n"
     ]
    },
    {
     "name": "stdout",
     "output_type": "stream",
     "text": [
      "El divisor debe de ser mayor que cero\n"
     ]
    }
   ],
   "source": [
    "import unittest\n",
    "from Calculadora_Raul import is_Number, division, multiplicacion \n",
    "\n",
    "class TestIsNumberCajaNegra(unittest.TestCase):\n",
    "\n",
    "    # Pruebas para isNumber (Pruebas Caja Negra y Pruebas Caja Blanca)\n",
    "    def test_isNumber_valores_validos(self):\n",
    "        # Clases de equivalencia que són validas\n",
    "        \n",
    "        self.assertTrue(is_Number(\"123\"))  # numerica\n",
    "        self.assertTrue(is_Number(\"3.14\"))  # decimal \n",
    "        self.assertTrue(is_Number(3.14))  # Flotante\n",
    "        self.assertTrue(is_Number(42))  # Entero\n",
    "        self.assertTrue(is_Number(\"1111111111111 111111111111111111111111111111111111\"))  # numerica largo\n",
    "        self.assertTrue(is_Number(\"-1\")) #Negativo próximo a 0\n",
    "        self.assertTrue(is_Number(\" 0 \")) # Negativo a 0\n",
    "        self.assertTrue(is_Number(\"-0.1\"))# Negativo Próximo a 0\n",
    "        self.assertTrue(is_Number(\"0.1\"))# Positivo Próximo a 0\n",
    "        self.assertTrue(is_Number(\"-0.000000000000000000001\"))# Negativo muy Próximo a 0\n",
    "\n",
    "        # Test con potencias.\n",
    "        self.assertTrue(is_Number(10**10)) #10 elevado a 10\n",
    "        self.assertTrue(is_Number(10**-10)) # 10 elevado a -10\n",
    "        self.assertTrue(is_Number(10**100)) # 10 elevado a 100\n",
    "        self.assertTrue(is_Number(10**-100)) # 10 elevado a -100 \n",
    "        \n",
    "        \n",
    "    def test_is_Number_boolanos(self): \n",
    "        # Clases de equivalencias con booleanos\n",
    "        self.assertTrue(is_Number(True))\n",
    "        self.assertTrue(is_Number(False))\n",
    "        \n",
    "    def test_isNumber_valores_invalidos(self):\n",
    "        # Clas es de equivalencia inválidas\n",
    "        self.assertFalse(is_Number(None))  # Valor None\n",
    "        self.assertFalse(is_Number(\"abcd\"))  # Cadena no numérica\n",
    "        self.assertFalse(is_Number(\"123abcd\"))  # Mixta\n",
    "        self.assertFalse(is_Number(\"\"))# Ningun caracter\n",
    "        self.assertFalse(is_Number(\"1,100\")) #No es nmerico en formato válido por la \",\"\n",
    "        \n",
    "\n",
    "    # Test para division (Caja Negra)\n",
    "    def test_division_valores_validos(self):\n",
    "        # Clases de equivalencia válidas\n",
    "        self.assertEqual(division(10, 2), 5)  # División normal\n",
    "        self.assertEqual(division(-10, 2), -5)  # Números negativos\n",
    "        self.assertEqual(division(0, 1), 0)  # Dividendo es 0\n",
    "\n",
    "    def test_division_division_por_cero(self):\n",
    "        # Clase de equivalencia inválida\n",
    "\n",
    "        self.assertFalse(division(10, 0), \"Error: División entre cero no permitida.\")\n",
    "        self.assertFalse(division(-10, 0), \"Error: División entre cero no permitida.\")\n",
    "     \n",
    "    \n",
    "\n",
    "    # Test para multiplicacion (Caja Blanca)\n",
    "    def test_multiplicacion(self):\n",
    "        # Cobertura de rutas del código\n",
    "        self.assertEqual(multiplicacion(2, 5), 10)  # Test con números positivos\n",
    "        self.assertEqual(multiplicacion(-2, 5), -10)  # Test con números negativos\n",
    "        self.assertEqual(multiplicacion(0, 5), 0)  # Test con Uno número es 0\n",
    "        self.assertEqual(multiplicacion(2, 0), 0)  # El otro número es 0\n",
    "        self.assertEqual(multiplicacion(-2, -5), 10)  # Dos números negativos\n",
    "        self.assertEqual(multiplicacion(10**10, 10**-10),1) #Multiplicacion números elevados.\n",
    "\n",
    "if __name__ == \"__main__\":\n",
    "    unittest.main(argv=['ignored', '-v'], exit=False)"
   ]
  },
  {
   "cell_type": "markdown",
   "id": "1dc65331-ed70-4d94-a01e-b4cd85b78f17",
   "metadata": {},
   "source": [
    "4. Generación del Grafo de Flujo\n",
    "\n",
    "# Grafo para division:\n",
    "\n",
    "**Inicio**\n",
    "\n",
    "- Condición: b == 0\n",
    "\n",
    "- Si es verdadero → Retorna \"Error: División por cero no permitida.\"\n",
    "\n",
    "- Si es falso → Calcula a / b y retorna.\n",
    "\n",
    "# Grafo para multiplicacion:\n",
    "\n",
    "**Inicio**\n",
    "\n",
    "- Multiplica a * b.\n",
    "\n",
    "Retorna el resultado.\n"
   ]
  }
 ],
 "metadata": {
  "kernelspec": {
   "display_name": "Python 3 (ipykernel)",
   "language": "python",
   "name": "python3"
  },
  "language_info": {
   "codemirror_mode": {
    "name": "ipython",
    "version": 3
   },
   "file_extension": ".py",
   "mimetype": "text/x-python",
   "name": "python",
   "nbconvert_exporter": "python",
   "pygments_lexer": "ipython3",
   "version": "3.12.8"
  }
 },
 "nbformat": 4,
 "nbformat_minor": 5
}
